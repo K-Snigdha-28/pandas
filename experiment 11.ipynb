{
 "cells": [
  {
   "cell_type": "code",
   "execution_count": 1,
   "id": "4ea3de14",
   "metadata": {},
   "outputs": [],
   "source": [
    "from sklearn.feature_extraction.text import CountVectorizer"
   ]
  },
  {
   "cell_type": "code",
   "execution_count": 2,
   "id": "f4a44ac2",
   "metadata": {},
   "outputs": [
    {
     "name": "stdout",
     "output_type": "stream",
     "text": [
      "Vocabulary:  {'the': 8, 'cat': 2, 'in': 5, 'hat': 4, 'ate': 0, 'mouse': 6, 'ran': 7, 'away': 1, 'from': 3}\n",
      "Encoded documents: \n",
      " [[0 0 1 0 1 1 0 0 2]\n",
      " [1 0 1 0 0 0 1 0 2]\n",
      " [0 1 1 1 0 0 1 1 2]]\n"
     ]
    }
   ],
   "source": [
    "text = [\"The cat in the hat\",\n",
    "        \"The cat ate the mouse\",\n",
    "        \"The mouse ran away from the cat\"]\n",
    "vectorizer = CountVectorizer()\n",
    "vectorized_text = vectorizer.fit_transform(text)\n",
    "print(\"Vocabulary: \", vectorizer.vocabulary_)\n",
    "print(\"Encoded documents: \\n\", vectorized_text.toarray())"
   ]
  },
  {
   "cell_type": "code",
   "execution_count": null,
   "id": "1d65cc97",
   "metadata": {},
   "outputs": [],
   "source": []
  }
 ],
 "metadata": {
  "kernelspec": {
   "display_name": "Python 3 (ipykernel)",
   "language": "python",
   "name": "python3"
  },
  "language_info": {
   "codemirror_mode": {
    "name": "ipython",
    "version": 3
   },
   "file_extension": ".py",
   "mimetype": "text/x-python",
   "name": "python",
   "nbconvert_exporter": "python",
   "pygments_lexer": "ipython3",
   "version": "3.9.13"
  }
 },
 "nbformat": 4,
 "nbformat_minor": 5
}
